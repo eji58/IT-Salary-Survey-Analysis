{
  "nbformat": 4,
  "nbformat_minor": 0,
  "metadata": {
    "colab": {
      "name": "Explore.ipynb",
      "private_outputs": true,
      "provenance": [],
      "collapsed_sections": [],
      "toc_visible": true,
      "authorship_tag": "ABX9TyNeYLd1/K2jXw1HhL9XBJms",
      "include_colab_link": true
    },
    "kernelspec": {
      "name": "python3",
      "display_name": "Python 3"
    },
    "language_info": {
      "name": "python"
    }
  },
  "cells": [
    {
      "cell_type": "markdown",
      "metadata": {
        "id": "view-in-github",
        "colab_type": "text"
      },
      "source": [
        "<a href=\"https://colab.research.google.com/github/eji58/IT-Salary-Survey-Analysis/blob/main/Explore.ipynb\" target=\"_parent\"><img src=\"https://colab.research.google.com/assets/colab-badge.svg\" alt=\"Open In Colab\"/></a>"
      ]
    },
    {
      "cell_type": "code",
      "metadata": {
        "id": "hxpkmjtWWOSk"
      },
      "source": [
        "from google.colab import drive\n",
        "drive.mount('/content/drive')"
      ],
      "execution_count": null,
      "outputs": []
    },
    {
      "cell_type": "code",
      "metadata": {
        "id": "cFazG3IUjXDD"
      },
      "source": [
        "# Librares Imports\n",
        "import pandas as pd\n",
        "import numpy as np\n",
        "import seaborn as sns\n",
        "import os\n",
        "import matplotlib.pyplot as plt\n",
        "import seaborn as sns\n",
        "from wordcloud import WordCloud, STOPWORDS, ImageColorGenerator\n",
        "%load_ext google.colab.data_table"
      ],
      "execution_count": null,
      "outputs": []
    },
    {
      "cell_type": "code",
      "metadata": {
        "id": "weGIxqrPjmNz"
      },
      "source": [
        "df=pd.read_csv('/content/drive/MyDrive/Colab Notebooks/IT Salary Survey EU/IT_Salary_Survey_Cleaning.csv')\n",
        "df.head(3)"
      ],
      "execution_count": null,
      "outputs": []
    },
    {
      "cell_type": "markdown",
      "metadata": {
        "id": "-BxAHNl2LvE_"
      },
      "source": [
        "# Explore Features¶\n"
      ]
    },
    {
      "cell_type": "markdown",
      "metadata": {
        "id": "nrmvqXVz4MS9"
      },
      "source": [
        "# 1-Singel Features¶\n"
      ]
    },
    {
      "cell_type": "code",
      "metadata": {
        "id": "tnpJzM12iuPI"
      },
      "source": [
        "def counter(df,column):\n",
        "  \"\"\"\n",
        "\n",
        "  \"\"\"\n",
        "  data = pd.Series(df[column].value_counts())\n",
        "  df=pd.DataFrame(data.items(), columns=[column, 'Counts'])\n",
        "  return df.sort_values(by='Counts', axis=0, ascending=False)"
      ],
      "execution_count": null,
      "outputs": []
    },
    {
      "cell_type": "code",
      "metadata": {
        "id": "_3EXo3IM4ZNp"
      },
      "source": [
        "def  distributions(df,column,limit):\n",
        "  \"\"\"\n",
        "\n",
        "  \"\"\"\n",
        "  value_counts= df[column].value_counts()\n",
        "  if (len(value_counts) <= limit):\n",
        "      sns.countplot(x=column,data=df,palette='twilight')\n",
        "      plt.title(column+\" counter\",fontsize=20)\n",
        "  else:\n",
        "      value_columns=list(counter(df,column)[0:limit][column])\n",
        "      df1=df[df[column].isin(value_columns)]\n",
        "      sns.countplot(x=column,data=df1,palette='twilight')\n",
        "      plt.title(column + ' - Top '+ str(limit)+ ' only',fontsize=20)\n",
        "\n",
        "  plt.xticks(rotation=70,fontsize=13)\n",
        "  plt.xlabel(column,fontsize=30) # x axis \n",
        "  plt.ylabel('Counts',fontsize=30) # y axis  \n",
        "  plt.grid()\n",
        "  plt.show()\n",
        "  plt.savefig(\"/content/drive/MyDrive/Colab Notebooks/IT Salary Survey EU/\"+column+\".png\", dpi=800) \n",
        "\n"
      ],
      "execution_count": null,
      "outputs": []
    },
    {
      "cell_type": "code",
      "metadata": {
        "id": "6AVgEy63jNyd"
      },
      "source": [
        "df.columns.to_list()"
      ],
      "execution_count": null,
      "outputs": []
    },
    {
      "cell_type": "code",
      "metadata": {
        "id": "UOB5HhiG-hqZ"
      },
      "source": [
        "plt.figure(figsize=(35,10))\n",
        "distributions(df,'Age',50)\n"
      ],
      "execution_count": null,
      "outputs": []
    },
    {
      "cell_type": "code",
      "metadata": {
        "id": "XR1gG1PrAAJA"
      },
      "source": [
        "plt.figure(figsize=(5,5))\n",
        "distributions(df,'Gender',4)\n"
      ],
      "execution_count": null,
      "outputs": []
    },
    {
      "cell_type": "code",
      "metadata": {
        "id": "DNtOFbA_AQr2"
      },
      "source": [
        "plt.figure(figsize=(20,5))\n",
        "distributions(df,'Position',15)\n"
      ],
      "execution_count": null,
      "outputs": []
    },
    {
      "cell_type": "code",
      "metadata": {
        "id": "56V9QbFBjNKr"
      },
      "source": [
        "plt.figure(figsize=(35,5))\n",
        "df['Years of experience']=df['Years of experience'].apply(np.ceil)\n",
        "distributions(df,'Years of experience',45)\n"
      ],
      "execution_count": null,
      "outputs": []
    },
    {
      "cell_type": "code",
      "metadata": {
        "id": "vfb5H9c3Bygh"
      },
      "source": [
        "plt.figure(figsize=(5,5))\n",
        "df1=df[~df['Covid job loss'].isin(['MISSING'])]\n",
        "distributions(df1,'Covid job loss',3)"
      ],
      "execution_count": null,
      "outputs": []
    },
    {
      "cell_type": "code",
      "metadata": {
        "id": "bW6O7gDlB_JQ"
      },
      "source": [
        "plt.figure(figsize=(5,5))\n",
        "distributions(df,'Working language',5)\n"
      ],
      "execution_count": null,
      "outputs": []
    },
    {
      "cell_type": "code",
      "metadata": {
        "id": "KftacqLVCW1V"
      },
      "source": [
        "plt.figure(figsize=(5,5))\n",
        "distributions(df,'Company size',5)\n"
      ],
      "execution_count": null,
      "outputs": []
    },
    {
      "cell_type": "code",
      "metadata": {
        "id": "JjLLDRAcCegV"
      },
      "source": [
        "plt.figure(figsize=(10,5))\n",
        "distributions(df,'Сontract duration',8)\n"
      ],
      "execution_count": null,
      "outputs": []
    },
    {
      "cell_type": "code",
      "metadata": {
        "id": "BBm7NTgZC5DM"
      },
      "source": [
        "plt.figure(figsize=(15,5))\n",
        "df1=df[~df['Employment status'].isin(['MISSING'])]\n",
        "distributions(df1,'Employment status' ,10)\n"
      ],
      "execution_count": null,
      "outputs": []
    },
    {
      "cell_type": "code",
      "metadata": {
        "id": "XTj5NcJ_4ZKv"
      },
      "source": [
        "plt.figure(figsize=(15,5))\n",
        "distributions(df,'Company type',6)\n"
      ],
      "execution_count": null,
      "outputs": []
    },
    {
      "cell_type": "code",
      "metadata": {
        "id": "J4MbiR3KQvyd"
      },
      "source": [
        "plt.figure(figsize=(35,5))\n",
        "df1=df[~df['Covid WFH allowance'].isin([0])]\n",
        "distributions(df1,'Covid WFH allowance',10)"
      ],
      "execution_count": null,
      "outputs": []
    },
    {
      "cell_type": "code",
      "metadata": {
        "id": "IltavFKJiudy"
      },
      "source": [
        "Age_conter= counter(df,'Age')\n",
        "Age_conter.describe()"
      ],
      "execution_count": null,
      "outputs": []
    },
    {
      "cell_type": "code",
      "metadata": {
        "id": "0VI6W1sNmubd"
      },
      "source": [
        "# make filter for the Age\n",
        "#20-30,31-40,41-50.50-60,>60\n",
        "df1=pd.DataFrame(data={'range': ['20-30','31-40','41-50','50-60','60<'], \n",
        "      'count': [Age_conter.query(\"20 <= Age <= 30 \")['Counts'].sum(),\n",
        "                  Age_conter.query(\"31 <= Age <= 40 \")['Counts'].sum(),\n",
        "                  Age_conter.query(\"41 <= Age <= 50 \")['Counts'].sum(),\n",
        "                  Age_conter.query(\"51 <= Age <= 60 \")['Counts'].sum(),\n",
        "                  Age_conter.query(\"61 <= Age\")['Counts'].sum()\n",
        "                  ]})\n",
        "df1"
      ],
      "execution_count": null,
      "outputs": []
    },
    {
      "cell_type": "code",
      "metadata": {
        "id": "6rnLQNVfJ023"
      },
      "source": [
        "Company_type_conter= counter(df,'Company type')\n",
        "Company_type_conter=Company_type_conter.sort_values(by='Counts', axis=0, ascending=False)\n",
        "Company_type_conter[Company_type_conter['Counts']>=3]"
      ],
      "execution_count": null,
      "outputs": []
    },
    {
      "cell_type": "markdown",
      "metadata": {
        "id": "abcvdbXxj3t9"
      },
      "source": [
        "# 2-multiply Features\n"
      ]
    },
    {
      "cell_type": "code",
      "metadata": {
        "id": "NRHS2YO36qvK"
      },
      "source": [
        "df.columns.to_list()"
      ],
      "execution_count": null,
      "outputs": []
    },
    {
      "cell_type": "code",
      "metadata": {
        "id": "SXuoayi0kM-G"
      },
      "source": [
        "plt.figure(figsize=(10,5))\n",
        "sns.countplot(x='Year',data=df[df['Gender'].isin(['FEMALE','MALE'])],hue='Gender',palette='twilight')\n",
        "plt.xlabel('Year',fontsize=20) # x axis \n",
        "plt.ylabel('Counts',fontsize=20) # y axis  \n",
        "plt.grid()\n",
        "plt.show()"
      ],
      "execution_count": null,
      "outputs": []
    },
    {
      "cell_type": "code",
      "metadata": {
        "id": "09fX0uwXkM6m"
      },
      "source": [
        "plt.figure(figsize=(10,5))\n",
        "column='Position'\n",
        "value_columns=list(counter(df,column)[0:15][column])\n",
        "df1=df[df[column].isin(value_columns)]\n",
        "sns.countplot(x=column,data=df1[df1['Gender'].isin(['FEMALE','MALE'])],hue='Gender',palette='twilight')\n",
        "plt.title(column + ' - Top '+ str(15)+ ' only')\n",
        "plt.xticks(rotation=70,fontsize=13)\n",
        "plt.xlabel(column,fontsize=20) # x axis \n",
        "plt.ylabel('Counts',fontsize=20) # y axis    \n",
        "plt.grid()\n",
        "plt.show()"
      ],
      "execution_count": null,
      "outputs": []
    },
    {
      "cell_type": "code",
      "metadata": {
        "id": "xjmJgPYSkMzf"
      },
      "source": [
        "plt.figure(figsize=(15,5))\n",
        "column1= 'Position'\n",
        "column2='Current Salary'\n",
        "value_columns=list(counter(df,column1)[0:15][column1])\n",
        "df1=df[df[column1].isin(value_columns)]\n",
        "sns.boxplot(x=column1,y=column2,data=df1, palette='twilight')\n",
        "plt.title('Current Salary based on the position')\n",
        "plt.xticks(rotation=70,fontsize=13)\n",
        "plt.xlabel(column1,fontsize=20) # x axis \n",
        "plt.ylabel(column2,fontsize=20) # y axis    \n",
        "plt.grid()\n",
        "plt.show()"
      ],
      "execution_count": null,
      "outputs": []
    },
    {
      "cell_type": "code",
      "metadata": {
        "id": "Z2S-i9t9Adqz"
      },
      "source": [
        "df['Your level'].unique()"
      ],
      "execution_count": null,
      "outputs": []
    },
    {
      "cell_type": "code",
      "metadata": {
        "id": "-F6NQ1l1kM4m"
      },
      "source": [
        "plt.figure(figsize=(10,5))\n",
        "column1='Years of experience'\n",
        "column2='Your level'\n",
        "value_columns=list(counter(df,column1)[0:15][column1])\n",
        "df1=df[df[column1].isin(value_columns)]\n",
        "sns.boxplot(x=column1,y=column2,data=df1[df1[column2].isin(['SENIOR', 'MIDDLE', 'JUNIOR'])], palette='twilight')\n",
        "plt.title('Your level based on years of experience')\n",
        "plt.xticks(rotation=70,fontsize=13)\n",
        "plt.xlabel(column1,fontsize=20) # x axis \n",
        "plt.ylabel(column2,fontsize=20) # y axis    \n",
        "plt.grid()\n",
        "plt.show()"
      ],
      "execution_count": null,
      "outputs": []
    },
    {
      "cell_type": "code",
      "metadata": {
        "id": "3Z4xI19skM2F"
      },
      "source": [
        "plt.figure(figsize=(15,5))\n",
        "column1='Years of experience'\n",
        "column2='Current Salary'\n",
        "value_columns=list(counter(df,column1)[0:15][column1])\n",
        "df1=df[df[column1].isin(value_columns)]\n",
        "sns.barplot(x=column1,y=column2,data=df1, palette='twilight')\n",
        "plt.title('Current Salary based on years of experience')\n",
        "plt.xticks(rotation=70,fontsize=13)\n",
        "plt.xlabel(column1,fontsize=20) # x axis \n",
        "plt.ylabel(column2,fontsize=20) # y axis    \n",
        "plt.grid()\n",
        "plt.show()"
      ],
      "execution_count": null,
      "outputs": []
    },
    {
      "cell_type": "code",
      "metadata": {
        "id": "iHSFXNzdkMvd"
      },
      "source": [
        "plt.figure(figsize=(10,5))\n",
        "sns.countplot(x='Year',data=df[df['Covid job loss'].isin(['YES','NO'])],hue='Covid job loss',palette='twilight')\n",
        "plt.xlabel('Year',fontsize=20) # x axis \n",
        "plt.ylabel('Counts',fontsize=20) # y axis  \n",
        "plt.grid()\n",
        "plt.show()"
      ],
      "execution_count": null,
      "outputs": []
    },
    {
      "cell_type": "markdown",
      "metadata": {
        "id": "Jua7W1z6Mt7t"
      },
      "source": [
        "#3-Text Featuers\n"
      ]
    },
    {
      "cell_type": "code",
      "metadata": {
        "id": "AKCggKg9MpeB"
      },
      "source": [
        "text_select = df['Technical Language'][df['Technical Language'] != 'MISSING']\n",
        "text = \" \".join(txt for txt in text_select)\n",
        "\n",
        "stopwords = set(STOPWORDS)\n",
        "\n",
        "wordcloud = WordCloud(stopwords=stopwords, max_font_size=100, max_words=500,\n",
        "                      width = 800, height = 600).generate(text)\n",
        "\n",
        "plt.figure(figsize=(20,10))\n",
        "plt.imshow(wordcloud, interpolation='bilinear')\n",
        "plt.axis(\"off\")\n",
        "plt.show()"
      ],
      "execution_count": null,
      "outputs": []
    },
    {
      "cell_type": "code",
      "metadata": {
        "id": "2YlJQ_9AMpbH"
      },
      "source": [
        "text_select = df['Other technical skills'][df['Other technical skills'] != 'MISSING']\n",
        "text = \" \".join(txt for txt in text_select)\n",
        "\n",
        "stopwords = set(STOPWORDS)\n",
        "wordcloud = WordCloud(stopwords=stopwords, max_font_size=100, max_words=500,\n",
        "                      width = 800, height = 600,).generate(text)\n",
        "\n",
        "plt.figure(figsize=(20,10))\n",
        "plt.imshow(wordcloud, interpolation='bilinear')\n",
        "plt.axis(\"off\")\n",
        "plt.show()"
      ],
      "execution_count": null,
      "outputs": []
    },
    {
      "cell_type": "code",
      "metadata": {
        "id": "K2SCZP3hMpY0"
      },
      "source": [
        "text_select = df['Company type'][df['Company type'] != 'MISSING']\n",
        "text = \" \".join(txt for txt in text_select)\n",
        "\n",
        "stopwords = set(STOPWORDS)\n",
        "\n",
        "wordcloud = WordCloud(stopwords=stopwords, max_font_size=100, max_words=500,\n",
        "                      width = 800, height = 600,).generate(text)\n",
        "\n",
        "plt.figure(figsize=(20,10))\n",
        "plt.imshow(wordcloud, interpolation='bilinear')\n",
        "plt.axis(\"off\")\n",
        "plt.show()"
      ],
      "execution_count": null,
      "outputs": []
    },
    {
      "cell_type": "code",
      "metadata": {
        "id": "oexL-eQiQQaG"
      },
      "source": [
        "text_select = df['Position'][df['Position'] != 'MISSING']\n",
        "text = \" \".join(txt for txt in text_select)\n",
        "\n",
        "stopwords = set(STOPWORDS)\n",
        "\n",
        "wordcloud = WordCloud(stopwords=stopwords, max_font_size=100, max_words=500,\n",
        "                      width = 800, height = 600,).generate(text)\n",
        "\n",
        "plt.figure(figsize=(20,10))\n",
        "plt.imshow(wordcloud, interpolation='bilinear')\n",
        "plt.axis(\"off\")\n",
        "plt.show()"
      ],
      "execution_count": null,
      "outputs": []
    },
    {
      "cell_type": "markdown",
      "metadata": {
        "id": "a3YQO3JCX7JQ"
      },
      "source": [
        "# 4-highest salary for which major"
      ]
    },
    {
      "cell_type": "code",
      "metadata": {
        "id": "OGh2dcMKX6gz"
      },
      "source": [
        "plt.figure(figsize=(15,5))\n",
        "column1='Position'\n",
        "column2='Current Salary'\n",
        "value_columns=list(counter(df,column1)[0:15][column1])\n",
        "df1=df[df[column1].isin(value_columns)]\n",
        "sns.barplot(x=column1,y=column2,data=df1,hue='Year' ,palette='twilight')\n",
        "plt.title('Current Salary based on position')\n",
        "plt.xticks(rotation=70,fontsize=13)\n",
        "plt.xlabel(column1,fontsize=20) # x axis \n",
        "plt.ylabel(column2,fontsize=20) # y axis    \n",
        "plt.grid()\n",
        "plt.show() "
      ],
      "execution_count": null,
      "outputs": []
    },
    {
      "cell_type": "code",
      "metadata": {
        "id": "but2UXP5Zt4i"
      },
      "source": [
        "plt.figure(figsize=(35,5))\n",
        "column1='Technical Language'\n",
        "value_columns=list(counter(df,column1)[0:11][column1])\n",
        "df1=df[df[column1].isin(value_columns)]\n",
        "df1=df1[~df1[column1].isin(['MISSING'])]\n",
        "\n",
        "sns.countplot(x=column1,data=df1,hue='Year' ,palette='twilight')\n",
        "plt.title('The most  programming language used',fontsize=20)\n",
        "plt.xticks(rotation=70,fontsize=13)\n",
        "plt.xlabel(column1,fontsize=20) # x axis \n",
        "plt.ylabel('conter',fontsize=20) # y axis    \n",
        "plt.grid()\n",
        "plt.show() "
      ],
      "execution_count": null,
      "outputs": []
    },
    {
      "cell_type": "code",
      "metadata": {
        "id": "XAllCiUVag41"
      },
      "source": [
        ""
      ],
      "execution_count": null,
      "outputs": []
    }
  ]
}